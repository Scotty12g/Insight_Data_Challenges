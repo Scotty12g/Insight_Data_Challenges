{
 "cells": [
  {
   "cell_type": "markdown",
   "metadata": {},
   "source": [
    "# Pricing Test Data Challenge\n",
    "\n",
    "## Challenge Description\n",
    "\n",
    "The goal of this challenge is to evaluate whether a pricing test running on a site has been successful.\n",
    "\n",
    "Company XYZ sells a software for 39 dollars. Revenue has been flat for some time, and the VP of Product has decided to run a test increasing the price. She hopes this will increase revenue. In the experiment, 66 percent of the users have seen the old price (39 dollars), while a random sample of 33 percent users a higher price (59 dollars).\n",
    "\n",
    "The test has been running for some time, and now the VP of Product is interested in understanding how it went and whether it would make sense to increase the price for all the users.\n",
    "\n",
    "Specifically, she asks you the following questions:\n",
    "\n",
    "* Should the company sell its software for 39 dollars or 59 dollars?\n",
    "\n",
    "The VP of Product is interested in having a holistic view into user behavior, especially focusing on actionable insights that might increase conversion rate. \n",
    "\n",
    "* What are your main findings looking at the data?\n",
    "\n",
    "**[Bonus]** The VP of Product feels that the test has been running for too long and he should have been able to get statistically significant results in a shorter time. \n",
    "\n",
    "* Do you agree with her intuition? \n",
    "* After how many days you would have stopped the test?\n",
    "* Explain why."
   ]
  },
  {
   "cell_type": "markdown",
   "metadata": {},
   "source": [
    "First we need to load in the dataset and some useful packages"
   ]
  },
  {
   "cell_type": "markdown",
   "metadata": {},
   "source": [
    "**Table 1**: \"test_results\" - data about the test\n",
    "\n",
    "Columns:\n",
    "* user_id : the Id of the user. Can be joined to user_id in user_table\n",
    "* timestamp : the date and time when the user hit for the first time company XYZ webpage. It is in user local time\n",
    "* source : marketing channel that led to the user coming to the site. It can be:\n",
    "    * ads-[\"google\", \"facebook\", \"bing\", \"yahoo\", \"other\"]. That is, user coming from google ads, yahoo ads, etc.\n",
    "    * seo - [\"google\", \"facebook\", \"bing\", \"yahoo\", \"other\"]. That is, user coming from google search, yahoo, facebook, etc.\n",
    "    * friend_referral : user coming from a referral link of another user\n",
    "    * direct_traffic: user coming by directly typing the address of the site on the browser\n",
    "* device : user device. Can be mobile or web\n",
    "* operative_system : user operative system. Can be: \"windows\", \"linux\", \"mac\" for web, and \"android\", \"iOS\" for mobile.  Other  if it is none of the above\n",
    "* test: whether the user was in the test (i.e. 1 -> higher price) or in control (0 -> old lower price)\n",
    "* price : the price the user sees. It should match test\n",
    "* converted : whether the user converted (i.e. 1 -> bought the software) or not (0 -> left the site without buying it).\n",
    "\n",
    "**Table 2**: \"user_table\" - Information about the user\n",
    "\n",
    "Columns:\n",
    "* user_id : the Id of the user. Can be joined to user_id in test_results table\n",
    "* city : the city where the user is * located. Comes from the user ip address\n",
    "* country : in which country the city is located\n",
    "* lat : city latitude - should match user city\n",
    "* long : city longitude - should match user city"
   ]
  },
  {
   "cell_type": "code",
   "execution_count": 82,
   "metadata": {},
   "outputs": [
    {
     "name": "stderr",
     "output_type": "stream",
     "text": [
      "/Users/scottmorello/anaconda/envs/my_projects_env/lib/python2.7/site-packages/sklearn/cross_validation.py:41: DeprecationWarning: This module was deprecated in version 0.18 in favor of the model_selection module into which all the refactored classes and functions are moved. Also note that the interface of the new CV iterators are different from that of this module. This module will be removed in 0.20.\n",
      "  \"This module will be removed in 0.20.\", DeprecationWarning)\n"
     ]
    }
   ],
   "source": [
    "# Import some packages we'll use\n",
    "import numpy as np\n",
    "import pandas as pd\n",
    "import matplotlib.pyplot as plt\n",
    "from datetime import datetime\n",
    "from pandas.plotting import scatter_matrix\n",
    "from sklearn.cluster import KMeans\n",
    "from sklearn import metrics\n",
    "from scipy.spatial.distance import cdist\n",
    "import seaborn as sns\n",
    "from itertools import product\n",
    "import lifelines as ll\n",
    "from sklearn.preprocessing import scale\n",
    "import scipy.stats  as stats\n",
    "from mpl_toolkits.basemap import Basemap\n",
    "import statsmodels.formula.api as smf\n",
    "import statsmodels.api as sm\n",
    "from scipy.stats.stats import pearsonr\n",
    "from patsy import dmatrices\n",
    "from sklearn.linear_model import LogisticRegression\n",
    "from sklearn.cross_validation import train_test_split\n",
    "from sklearn import metrics\n",
    "from sklearn.cross_validation import cross_val_score"
   ]
  },
  {
   "cell_type": "code",
   "execution_count": 4,
   "metadata": {
    "collapsed": true
   },
   "outputs": [],
   "source": [
    "# Import the data into a Pandas dataframe\n",
    "\n",
    "test_results = pd.read_csv(\"/Users/scottmorello/Dropbox/Archives/Jobs/Insight_Data_Science/Data_Challenges/Insight_Data_Challenges/Data_Challenge_2/Pricing_Test/test_results.csv\")\n",
    "\n",
    "user_table = pd.read_csv(\"/Users/scottmorello/Dropbox/Archives/Jobs/Insight_Data_Science/Data_Challenges/Insight_Data_Challenges/Data_Challenge_2/Pricing_Test/user_table.csv\")"
   ]
  },
  {
   "cell_type": "code",
   "execution_count": 5,
   "metadata": {},
   "outputs": [
    {
     "data": {
      "text/html": [
       "<div>\n",
       "<style>\n",
       "    .dataframe thead tr:only-child th {\n",
       "        text-align: right;\n",
       "    }\n",
       "\n",
       "    .dataframe thead th {\n",
       "        text-align: left;\n",
       "    }\n",
       "\n",
       "    .dataframe tbody tr th {\n",
       "        vertical-align: top;\n",
       "    }\n",
       "</style>\n",
       "<table border=\"1\" class=\"dataframe\">\n",
       "  <thead>\n",
       "    <tr style=\"text-align: right;\">\n",
       "      <th></th>\n",
       "      <th>user_id</th>\n",
       "      <th>timestamp</th>\n",
       "      <th>source</th>\n",
       "      <th>device</th>\n",
       "      <th>operative_system</th>\n",
       "      <th>test</th>\n",
       "      <th>price</th>\n",
       "      <th>converted</th>\n",
       "    </tr>\n",
       "  </thead>\n",
       "  <tbody>\n",
       "    <tr>\n",
       "      <th>0</th>\n",
       "      <td>604839</td>\n",
       "      <td>2015-05-08 03:38:34</td>\n",
       "      <td>ads_facebook</td>\n",
       "      <td>mobile</td>\n",
       "      <td>iOS</td>\n",
       "      <td>0</td>\n",
       "      <td>39</td>\n",
       "      <td>0</td>\n",
       "    </tr>\n",
       "    <tr>\n",
       "      <th>1</th>\n",
       "      <td>624057</td>\n",
       "      <td>2015-05-10 21:08:46</td>\n",
       "      <td>seo-google</td>\n",
       "      <td>mobile</td>\n",
       "      <td>android</td>\n",
       "      <td>0</td>\n",
       "      <td>39</td>\n",
       "      <td>0</td>\n",
       "    </tr>\n",
       "    <tr>\n",
       "      <th>2</th>\n",
       "      <td>317970</td>\n",
       "      <td>2015-04-04 15:01:23</td>\n",
       "      <td>ads-bing</td>\n",
       "      <td>mobile</td>\n",
       "      <td>android</td>\n",
       "      <td>0</td>\n",
       "      <td>39</td>\n",
       "      <td>0</td>\n",
       "    </tr>\n",
       "    <tr>\n",
       "      <th>3</th>\n",
       "      <td>685636</td>\n",
       "      <td>2015-05-07 07:26:01</td>\n",
       "      <td>direct_traffic</td>\n",
       "      <td>mobile</td>\n",
       "      <td>iOS</td>\n",
       "      <td>1</td>\n",
       "      <td>59</td>\n",
       "      <td>0</td>\n",
       "    </tr>\n",
       "    <tr>\n",
       "      <th>4</th>\n",
       "      <td>820854</td>\n",
       "      <td>2015-05-24 11:04:40</td>\n",
       "      <td>ads_facebook</td>\n",
       "      <td>web</td>\n",
       "      <td>mac</td>\n",
       "      <td>0</td>\n",
       "      <td>39</td>\n",
       "      <td>0</td>\n",
       "    </tr>\n",
       "  </tbody>\n",
       "</table>\n",
       "</div>"
      ],
      "text/plain": [
       "   user_id            timestamp          source  device operative_system  \\\n",
       "0   604839  2015-05-08 03:38:34    ads_facebook  mobile              iOS   \n",
       "1   624057  2015-05-10 21:08:46      seo-google  mobile          android   \n",
       "2   317970  2015-04-04 15:01:23        ads-bing  mobile          android   \n",
       "3   685636  2015-05-07 07:26:01  direct_traffic  mobile              iOS   \n",
       "4   820854  2015-05-24 11:04:40    ads_facebook     web              mac   \n",
       "\n",
       "   test  price  converted  \n",
       "0     0     39          0  \n",
       "1     0     39          0  \n",
       "2     0     39          0  \n",
       "3     1     59          0  \n",
       "4     0     39          0  "
      ]
     },
     "execution_count": 5,
     "metadata": {},
     "output_type": "execute_result"
    }
   ],
   "source": [
    "# Checkout the data\n",
    "test_results.head(5)"
   ]
  },
  {
   "cell_type": "code",
   "execution_count": 6,
   "metadata": {},
   "outputs": [
    {
     "data": {
      "text/html": [
       "<div>\n",
       "<style>\n",
       "    .dataframe thead tr:only-child th {\n",
       "        text-align: right;\n",
       "    }\n",
       "\n",
       "    .dataframe thead th {\n",
       "        text-align: left;\n",
       "    }\n",
       "\n",
       "    .dataframe tbody tr th {\n",
       "        vertical-align: top;\n",
       "    }\n",
       "</style>\n",
       "<table border=\"1\" class=\"dataframe\">\n",
       "  <thead>\n",
       "    <tr style=\"text-align: right;\">\n",
       "      <th></th>\n",
       "      <th>user_id</th>\n",
       "      <th>city</th>\n",
       "      <th>country</th>\n",
       "      <th>lat</th>\n",
       "      <th>long</th>\n",
       "    </tr>\n",
       "  </thead>\n",
       "  <tbody>\n",
       "    <tr>\n",
       "      <th>0</th>\n",
       "      <td>510335</td>\n",
       "      <td>Peabody</td>\n",
       "      <td>USA</td>\n",
       "      <td>42.53</td>\n",
       "      <td>-70.97</td>\n",
       "    </tr>\n",
       "    <tr>\n",
       "      <th>1</th>\n",
       "      <td>89568</td>\n",
       "      <td>Reno</td>\n",
       "      <td>USA</td>\n",
       "      <td>39.54</td>\n",
       "      <td>-119.82</td>\n",
       "    </tr>\n",
       "    <tr>\n",
       "      <th>2</th>\n",
       "      <td>434134</td>\n",
       "      <td>Rialto</td>\n",
       "      <td>USA</td>\n",
       "      <td>34.11</td>\n",
       "      <td>-117.39</td>\n",
       "    </tr>\n",
       "    <tr>\n",
       "      <th>3</th>\n",
       "      <td>289769</td>\n",
       "      <td>Carson City</td>\n",
       "      <td>USA</td>\n",
       "      <td>39.15</td>\n",
       "      <td>-119.74</td>\n",
       "    </tr>\n",
       "    <tr>\n",
       "      <th>4</th>\n",
       "      <td>939586</td>\n",
       "      <td>Chicago</td>\n",
       "      <td>USA</td>\n",
       "      <td>41.84</td>\n",
       "      <td>-87.68</td>\n",
       "    </tr>\n",
       "  </tbody>\n",
       "</table>\n",
       "</div>"
      ],
      "text/plain": [
       "   user_id         city country    lat    long\n",
       "0   510335      Peabody     USA  42.53  -70.97\n",
       "1    89568         Reno     USA  39.54 -119.82\n",
       "2   434134       Rialto     USA  34.11 -117.39\n",
       "3   289769  Carson City     USA  39.15 -119.74\n",
       "4   939586      Chicago     USA  41.84  -87.68"
      ]
     },
     "execution_count": 6,
     "metadata": {},
     "output_type": "execute_result"
    }
   ],
   "source": [
    "user_table.head(5)"
   ]
  },
  {
   "cell_type": "code",
   "execution_count": 7,
   "metadata": {},
   "outputs": [
    {
     "name": "stdout",
     "output_type": "stream",
     "text": [
      "user_id              int64\n",
      "timestamp           object\n",
      "source              object\n",
      "device              object\n",
      "operative_system    object\n",
      "test                 int64\n",
      "price                int64\n",
      "converted            int64\n",
      "dtype: object\n",
      "\n",
      "user_id      int64\n",
      "city        object\n",
      "country     object\n",
      "lat        float64\n",
      "long       float64\n",
      "dtype: object\n"
     ]
    }
   ],
   "source": [
    "print test_results.dtypes\n",
    "print \"\"\n",
    "print user_table.dtypes"
   ]
  },
  {
   "cell_type": "code",
   "execution_count": 8,
   "metadata": {
    "collapsed": true
   },
   "outputs": [],
   "source": [
    "# Convert the timestamp to date times\n",
    "\n",
    "# There is a problem with one of the datetimes though - seems to be a minute value >59, and we need to find it.\n",
    "# We start by separating out all the date and time elements, and correcting for anything 60+ (convrerting it to 59)\n",
    "def checkMinute(minute):\n",
    "    minute = int(minute)\n",
    "    if minute >59:\n",
    "        return '59'\n",
    "    else:\n",
    "        return str(minute)\n",
    "    \n",
    "test_results['year'] = [int(x[:4]) for x in test_results['timestamp']]\n",
    "test_results['month'] = [int(x[5:7]) for x in test_results['timestamp']]\n",
    "test_results['day'] = [int(x[8:10]) for x in test_results['timestamp']]\n",
    "test_results['hour'] = [int(x[11:13]) for x in test_results['timestamp']]\n",
    "test_results['minute'] = [int(checkMinute(x[14:16])) for x in test_results['timestamp']]\n",
    "test_results['second'] = [int(checkMinute(x[17:])) for x in test_results['timestamp']]\n",
    "\n",
    "test_results['timestamp'] = pd.to_datetime(test_results[['year', 'month', 'day', 'hour', 'minute', 'second']])"
   ]
  },
  {
   "cell_type": "code",
   "execution_count": 9,
   "metadata": {},
   "outputs": [
    {
     "data": {
      "text/html": [
       "<div>\n",
       "<style>\n",
       "    .dataframe thead tr:only-child th {\n",
       "        text-align: right;\n",
       "    }\n",
       "\n",
       "    .dataframe thead th {\n",
       "        text-align: left;\n",
       "    }\n",
       "\n",
       "    .dataframe tbody tr th {\n",
       "        vertical-align: top;\n",
       "    }\n",
       "</style>\n",
       "<table border=\"1\" class=\"dataframe\">\n",
       "  <thead>\n",
       "    <tr style=\"text-align: right;\">\n",
       "      <th></th>\n",
       "      <th>user_id</th>\n",
       "      <th>timestamp</th>\n",
       "      <th>source</th>\n",
       "      <th>device</th>\n",
       "      <th>operative_system</th>\n",
       "      <th>test</th>\n",
       "      <th>price</th>\n",
       "      <th>converted</th>\n",
       "      <th>year</th>\n",
       "      <th>month</th>\n",
       "      <th>day</th>\n",
       "      <th>hour</th>\n",
       "      <th>minute</th>\n",
       "      <th>second</th>\n",
       "    </tr>\n",
       "  </thead>\n",
       "  <tbody>\n",
       "    <tr>\n",
       "      <th>0</th>\n",
       "      <td>604839</td>\n",
       "      <td>2015-05-08 03:38:34</td>\n",
       "      <td>ads_facebook</td>\n",
       "      <td>mobile</td>\n",
       "      <td>iOS</td>\n",
       "      <td>0</td>\n",
       "      <td>39</td>\n",
       "      <td>0</td>\n",
       "      <td>2015</td>\n",
       "      <td>5</td>\n",
       "      <td>8</td>\n",
       "      <td>3</td>\n",
       "      <td>38</td>\n",
       "      <td>34</td>\n",
       "    </tr>\n",
       "    <tr>\n",
       "      <th>1</th>\n",
       "      <td>624057</td>\n",
       "      <td>2015-05-10 21:08:46</td>\n",
       "      <td>seo-google</td>\n",
       "      <td>mobile</td>\n",
       "      <td>android</td>\n",
       "      <td>0</td>\n",
       "      <td>39</td>\n",
       "      <td>0</td>\n",
       "      <td>2015</td>\n",
       "      <td>5</td>\n",
       "      <td>10</td>\n",
       "      <td>21</td>\n",
       "      <td>8</td>\n",
       "      <td>46</td>\n",
       "    </tr>\n",
       "    <tr>\n",
       "      <th>2</th>\n",
       "      <td>317970</td>\n",
       "      <td>2015-04-04 15:01:23</td>\n",
       "      <td>ads-bing</td>\n",
       "      <td>mobile</td>\n",
       "      <td>android</td>\n",
       "      <td>0</td>\n",
       "      <td>39</td>\n",
       "      <td>0</td>\n",
       "      <td>2015</td>\n",
       "      <td>4</td>\n",
       "      <td>4</td>\n",
       "      <td>15</td>\n",
       "      <td>1</td>\n",
       "      <td>23</td>\n",
       "    </tr>\n",
       "    <tr>\n",
       "      <th>3</th>\n",
       "      <td>685636</td>\n",
       "      <td>2015-05-07 07:26:01</td>\n",
       "      <td>direct_traffic</td>\n",
       "      <td>mobile</td>\n",
       "      <td>iOS</td>\n",
       "      <td>1</td>\n",
       "      <td>59</td>\n",
       "      <td>0</td>\n",
       "      <td>2015</td>\n",
       "      <td>5</td>\n",
       "      <td>7</td>\n",
       "      <td>7</td>\n",
       "      <td>26</td>\n",
       "      <td>1</td>\n",
       "    </tr>\n",
       "    <tr>\n",
       "      <th>4</th>\n",
       "      <td>820854</td>\n",
       "      <td>2015-05-24 11:04:40</td>\n",
       "      <td>ads_facebook</td>\n",
       "      <td>web</td>\n",
       "      <td>mac</td>\n",
       "      <td>0</td>\n",
       "      <td>39</td>\n",
       "      <td>0</td>\n",
       "      <td>2015</td>\n",
       "      <td>5</td>\n",
       "      <td>24</td>\n",
       "      <td>11</td>\n",
       "      <td>4</td>\n",
       "      <td>40</td>\n",
       "    </tr>\n",
       "  </tbody>\n",
       "</table>\n",
       "</div>"
      ],
      "text/plain": [
       "   user_id           timestamp          source  device operative_system  test  \\\n",
       "0   604839 2015-05-08 03:38:34    ads_facebook  mobile              iOS     0   \n",
       "1   624057 2015-05-10 21:08:46      seo-google  mobile          android     0   \n",
       "2   317970 2015-04-04 15:01:23        ads-bing  mobile          android     0   \n",
       "3   685636 2015-05-07 07:26:01  direct_traffic  mobile              iOS     1   \n",
       "4   820854 2015-05-24 11:04:40    ads_facebook     web              mac     0   \n",
       "\n",
       "   price  converted  year  month  day  hour  minute  second  \n",
       "0     39          0  2015      5    8     3      38      34  \n",
       "1     39          0  2015      5   10    21       8      46  \n",
       "2     39          0  2015      4    4    15       1      23  \n",
       "3     59          0  2015      5    7     7      26       1  \n",
       "4     39          0  2015      5   24    11       4      40  "
      ]
     },
     "execution_count": 9,
     "metadata": {},
     "output_type": "execute_result"
    }
   ],
   "source": [
    "# Checkout the data\n",
    "test_results.head(5)"
   ]
  },
  {
   "cell_type": "code",
   "execution_count": 10,
   "metadata": {},
   "outputs": [
    {
     "name": "stdout",
     "output_type": "stream",
     "text": [
      "user_id                      int64\n",
      "timestamp           datetime64[ns]\n",
      "source                      object\n",
      "device                      object\n",
      "operative_system            object\n",
      "test                         int64\n",
      "price                        int64\n",
      "converted                    int64\n",
      "year                         int64\n",
      "month                        int64\n",
      "day                          int64\n",
      "hour                         int64\n",
      "minute                       int64\n",
      "second                       int64\n",
      "dtype: object\n",
      "\n",
      "user_id      int64\n",
      "city        object\n",
      "country     object\n",
      "lat        float64\n",
      "long       float64\n",
      "dtype: object\n"
     ]
    }
   ],
   "source": [
    "print test_results.dtypes\n",
    "print \"\"\n",
    "print user_table.dtypes"
   ]
  },
  {
   "cell_type": "code",
   "execution_count": 11,
   "metadata": {},
   "outputs": [
    {
     "data": {
      "text/plain": [
       "timestamp           1\n",
       "source              1\n",
       "device              1\n",
       "operative_system    1\n",
       "test                1\n",
       "price               1\n",
       "converted           1\n",
       "year                1\n",
       "month               1\n",
       "day                 1\n",
       "hour                1\n",
       "minute              1\n",
       "second              1\n",
       "dtype: int64"
      ]
     },
     "execution_count": 11,
     "metadata": {},
     "output_type": "execute_result"
    }
   ],
   "source": [
    "#make sure each user is only recorded once\n",
    "test_results.groupby('user_id').count().max()"
   ]
  },
  {
   "cell_type": "code",
   "execution_count": 12,
   "metadata": {},
   "outputs": [
    {
     "name": "stdout",
     "output_type": "stream",
     "text": [
      "user_id             0\n",
      "timestamp           0\n",
      "source              0\n",
      "device              0\n",
      "operative_system    0\n",
      "test                0\n",
      "price               0\n",
      "converted           0\n",
      "year                0\n",
      "month               0\n",
      "day                 0\n",
      "hour                0\n",
      "minute              0\n",
      "second              0\n",
      "dtype: int64\n",
      "\n",
      "user_id    0\n",
      "city       0\n",
      "country    0\n",
      "lat        0\n",
      "long       0\n",
      "dtype: int64\n"
     ]
    }
   ],
   "source": [
    "# Check to NAs, but there don't seem to be any\n",
    "print test_results.isnull().sum()\n",
    "print \"\"\n",
    "print user_table.isnull().sum()"
   ]
  },
  {
   "cell_type": "markdown",
   "metadata": {},
   "source": [
    "Now that we've cleaned up the dates and times, lets take a look at the data"
   ]
  },
  {
   "cell_type": "code",
   "execution_count": 13,
   "metadata": {},
   "outputs": [
    {
     "data": {
      "text/html": [
       "<div>\n",
       "<style>\n",
       "    .dataframe thead tr:only-child th {\n",
       "        text-align: right;\n",
       "    }\n",
       "\n",
       "    .dataframe thead th {\n",
       "        text-align: left;\n",
       "    }\n",
       "\n",
       "    .dataframe tbody tr th {\n",
       "        vertical-align: top;\n",
       "    }\n",
       "</style>\n",
       "<table border=\"1\" class=\"dataframe\">\n",
       "  <thead>\n",
       "    <tr style=\"text-align: right;\">\n",
       "      <th></th>\n",
       "      <th>user_id</th>\n",
       "      <th>test</th>\n",
       "      <th>price</th>\n",
       "      <th>converted</th>\n",
       "      <th>year</th>\n",
       "      <th>month</th>\n",
       "      <th>day</th>\n",
       "      <th>hour</th>\n",
       "      <th>minute</th>\n",
       "      <th>second</th>\n",
       "    </tr>\n",
       "  </thead>\n",
       "  <tbody>\n",
       "    <tr>\n",
       "      <th>count</th>\n",
       "      <td>316800.000000</td>\n",
       "      <td>316800.000000</td>\n",
       "      <td>316800.000000</td>\n",
       "      <td>316800.000000</td>\n",
       "      <td>316800.0</td>\n",
       "      <td>316800.000000</td>\n",
       "      <td>316800.000000</td>\n",
       "      <td>316800.000000</td>\n",
       "      <td>316800.000000</td>\n",
       "      <td>316800.000000</td>\n",
       "    </tr>\n",
       "    <tr>\n",
       "      <th>mean</th>\n",
       "      <td>499281.341840</td>\n",
       "      <td>0.360079</td>\n",
       "      <td>46.205051</td>\n",
       "      <td>0.018333</td>\n",
       "      <td>2015.0</td>\n",
       "      <td>4.041717</td>\n",
       "      <td>15.880944</td>\n",
       "      <td>11.886711</td>\n",
       "      <td>30.450792</td>\n",
       "      <td>30.493867</td>\n",
       "    </tr>\n",
       "    <tr>\n",
       "      <th>std</th>\n",
       "      <td>288591.154044</td>\n",
       "      <td>0.480024</td>\n",
       "      <td>9.601487</td>\n",
       "      <td>0.134154</td>\n",
       "      <td>0.0</td>\n",
       "      <td>0.822258</td>\n",
       "      <td>8.773255</td>\n",
       "      <td>5.057224</td>\n",
       "      <td>17.285751</td>\n",
       "      <td>17.302947</td>\n",
       "    </tr>\n",
       "    <tr>\n",
       "      <th>min</th>\n",
       "      <td>3.000000</td>\n",
       "      <td>0.000000</td>\n",
       "      <td>39.000000</td>\n",
       "      <td>0.000000</td>\n",
       "      <td>2015.0</td>\n",
       "      <td>3.000000</td>\n",
       "      <td>1.000000</td>\n",
       "      <td>0.000000</td>\n",
       "      <td>1.000000</td>\n",
       "      <td>1.000000</td>\n",
       "    </tr>\n",
       "    <tr>\n",
       "      <th>25%</th>\n",
       "      <td>249525.750000</td>\n",
       "      <td>0.000000</td>\n",
       "      <td>39.000000</td>\n",
       "      <td>0.000000</td>\n",
       "      <td>2015.0</td>\n",
       "      <td>3.000000</td>\n",
       "      <td>8.000000</td>\n",
       "      <td>9.000000</td>\n",
       "      <td>15.000000</td>\n",
       "      <td>15.000000</td>\n",
       "    </tr>\n",
       "    <tr>\n",
       "      <th>50%</th>\n",
       "      <td>499021.500000</td>\n",
       "      <td>0.000000</td>\n",
       "      <td>39.000000</td>\n",
       "      <td>0.000000</td>\n",
       "      <td>2015.0</td>\n",
       "      <td>4.000000</td>\n",
       "      <td>16.000000</td>\n",
       "      <td>12.000000</td>\n",
       "      <td>30.000000</td>\n",
       "      <td>30.000000</td>\n",
       "    </tr>\n",
       "    <tr>\n",
       "      <th>75%</th>\n",
       "      <td>749025.500000</td>\n",
       "      <td>1.000000</td>\n",
       "      <td>59.000000</td>\n",
       "      <td>0.000000</td>\n",
       "      <td>2015.0</td>\n",
       "      <td>5.000000</td>\n",
       "      <td>23.000000</td>\n",
       "      <td>15.000000</td>\n",
       "      <td>45.000000</td>\n",
       "      <td>46.000000</td>\n",
       "    </tr>\n",
       "    <tr>\n",
       "      <th>max</th>\n",
       "      <td>1000000.000000</td>\n",
       "      <td>1.000000</td>\n",
       "      <td>59.000000</td>\n",
       "      <td>1.000000</td>\n",
       "      <td>2015.0</td>\n",
       "      <td>5.000000</td>\n",
       "      <td>31.000000</td>\n",
       "      <td>23.000000</td>\n",
       "      <td>59.000000</td>\n",
       "      <td>59.000000</td>\n",
       "    </tr>\n",
       "  </tbody>\n",
       "</table>\n",
       "</div>"
      ],
      "text/plain": [
       "              user_id           test          price      converted      year  \\\n",
       "count   316800.000000  316800.000000  316800.000000  316800.000000  316800.0   \n",
       "mean    499281.341840       0.360079      46.205051       0.018333    2015.0   \n",
       "std     288591.154044       0.480024       9.601487       0.134154       0.0   \n",
       "min          3.000000       0.000000      39.000000       0.000000    2015.0   \n",
       "25%     249525.750000       0.000000      39.000000       0.000000    2015.0   \n",
       "50%     499021.500000       0.000000      39.000000       0.000000    2015.0   \n",
       "75%     749025.500000       1.000000      59.000000       0.000000    2015.0   \n",
       "max    1000000.000000       1.000000      59.000000       1.000000    2015.0   \n",
       "\n",
       "               month            day           hour         minute  \\\n",
       "count  316800.000000  316800.000000  316800.000000  316800.000000   \n",
       "mean        4.041717      15.880944      11.886711      30.450792   \n",
       "std         0.822258       8.773255       5.057224      17.285751   \n",
       "min         3.000000       1.000000       0.000000       1.000000   \n",
       "25%         3.000000       8.000000       9.000000      15.000000   \n",
       "50%         4.000000      16.000000      12.000000      30.000000   \n",
       "75%         5.000000      23.000000      15.000000      45.000000   \n",
       "max         5.000000      31.000000      23.000000      59.000000   \n",
       "\n",
       "              second  \n",
       "count  316800.000000  \n",
       "mean       30.493867  \n",
       "std        17.302947  \n",
       "min         1.000000  \n",
       "25%        15.000000  \n",
       "50%        30.000000  \n",
       "75%        46.000000  \n",
       "max        59.000000  "
      ]
     },
     "execution_count": 13,
     "metadata": {},
     "output_type": "execute_result"
    }
   ],
   "source": [
    "test_results.describe()"
   ]
  },
  {
   "cell_type": "markdown",
   "metadata": {},
   "source": [
    "We can already see that year won't matter, since all the data comes from a single year\n",
    "\n",
    "test and converted are Binary, and the test took place between March and May.\n",
    "\n",
    "Let's go on to explore the data in plots"
   ]
  },
  {
   "cell_type": "code",
   "execution_count": 14,
   "metadata": {},
   "outputs": [
    {
     "data": {
      "image/png": "[encoded data removed]",
      "text/plain": [
       "<matplotlib.figure.Figure at 0x113f19790>"
      ]
     },
     "metadata": {},
     "output_type": "display_data"
    }
   ],
   "source": [
    "# This is a better way to get a quick look at the data. We force the diagonal\n",
    "# (ie., the distributions of each varable) to be a denisty fuction, so we can asses the distributions.\n",
    "pd.plotting.scatter_matrix(test_results[['user_id','test','price','converted','month']], figsize=(12, 12), diagonal='kde')\n",
    "plt.show()"
   ]
  },
  {
   "cell_type": "markdown",
   "metadata": {},
   "source": [
    "We can already see that months are pretty well balanced, and the test set is unblanaced as described (~66% low cost, 33% high cost). We can also see that the test binary variable doesn't necessarily line up with the price... which is wrong. we should double check this in a bit. Lasstly, we see that very few events converted. This could be a problem during any test. We'll need to keep this in mind for any evaluation.\n",
    "\n",
    "To Do:\n",
    "\n",
    "* Check that all test cases have their correct price associated with them. If not, choose \"test\" or \"price\" as the true value, and fix the other.\n",
    "\n",
    "* Check the balance in the coverted dataset, and adjust if needed."
   ]
  },
  {
   "cell_type": "code",
   "execution_count": 15,
   "metadata": {},
   "outputs": [
    {
     "data": {
      "text/plain": [
       "test  price\n",
       "0     39       202517\n",
       "      59          210\n",
       "1     39          155\n",
       "      59       113918\n",
       "Name: converted, dtype: int64"
      ]
     },
     "execution_count": 15,
     "metadata": {},
     "output_type": "execute_result"
    }
   ],
   "source": [
    "test_results.groupby(['test','price']).converted.count()"
   ]
  },
  {
   "cell_type": "markdown",
   "metadata": {},
   "source": [
    "As suspected, something wrong with the pice vs test comparison. Based on the imbalance, it seems like Test is accurate, and Price is not. let's remove the individuals that have the wrong price associated with them, since we're unclear how that happened (i.e., which way they were actually misclassified)."
   ]
  },
  {
   "cell_type": "code",
   "execution_count": 16,
   "metadata": {},
   "outputs": [
    {
     "data": {
      "text/plain": [
       "test  price\n",
       "0     39       202517\n",
       "1     59       113918\n",
       "Name: converted, dtype: int64"
      ]
     },
     "execution_count": 16,
     "metadata": {},
     "output_type": "execute_result"
    }
   ],
   "source": [
    "test_results = test_results.query('(test == 0 and price == 39) or (test == 1 and price == 59)')\n",
    "test_results.groupby(['test','price']).converted.count()"
   ]
  },
  {
   "cell_type": "markdown",
   "metadata": {},
   "source": [
    "Now to look at conversion rates"
   ]
  },
  {
   "cell_type": "code",
   "execution_count": 17,
   "metadata": {},
   "outputs": [
    {
     "data": {
      "text/plain": [
       "price  month  converted\n",
       "39     3      0            62994\n",
       "              1             1261\n",
       "       4      0            64237\n",
       "              1             1341\n",
       "       5      0            71256\n",
       "              1             1428\n",
       "59     3      0            35800\n",
       "              1              589\n",
       "       4      0            35825\n",
       "              1              546\n",
       "       5      0            40521\n",
       "              1              637\n",
       "Name: user_id, dtype: int64"
      ]
     },
     "execution_count": 17,
     "metadata": {},
     "output_type": "execute_result"
    }
   ],
   "source": [
    "test_results.groupby(['price','month','converted']).user_id.count()"
   ]
  },
  {
   "cell_type": "markdown",
   "metadata": {},
   "source": [
    "Conversions already look balanced by month within each test, and it seems like sample sizes are approximately 2x pretty consistently between groups. It already looks as if there are more conversions per month for the lower proce than the higher proce, but that's not standardized by # of individuals yet, at which point they might be pretty equivlent"
   ]
  },
  {
   "cell_type": "code",
   "execution_count": 18,
   "metadata": {},
   "outputs": [
    {
     "data": {
      "text/html": [
       "<div>\n",
       "<style>\n",
       "    .dataframe thead tr:only-child th {\n",
       "        text-align: right;\n",
       "    }\n",
       "\n",
       "    .dataframe thead th {\n",
       "        text-align: left;\n",
       "    }\n",
       "\n",
       "    .dataframe tbody tr th {\n",
       "        vertical-align: top;\n",
       "    }\n",
       "</style>\n",
       "<table border=\"1\" class=\"dataframe\">\n",
       "  <thead>\n",
       "    <tr style=\"text-align: right;\">\n",
       "      <th></th>\n",
       "      <th></th>\n",
       "      <th>no</th>\n",
       "      <th>yes</th>\n",
       "      <th>proportion_converted</th>\n",
       "    </tr>\n",
       "    <tr>\n",
       "      <th>price</th>\n",
       "      <th>month</th>\n",
       "      <th></th>\n",
       "      <th></th>\n",
       "      <th></th>\n",
       "    </tr>\n",
       "  </thead>\n",
       "  <tbody>\n",
       "    <tr>\n",
       "      <th rowspan=\"3\" valign=\"top\">39</th>\n",
       "      <th>3</th>\n",
       "      <td>62994</td>\n",
       "      <td>1261</td>\n",
       "      <td>0.020018</td>\n",
       "    </tr>\n",
       "    <tr>\n",
       "      <th>4</th>\n",
       "      <td>64237</td>\n",
       "      <td>1341</td>\n",
       "      <td>0.020876</td>\n",
       "    </tr>\n",
       "    <tr>\n",
       "      <th>5</th>\n",
       "      <td>71256</td>\n",
       "      <td>1428</td>\n",
       "      <td>0.020040</td>\n",
       "    </tr>\n",
       "    <tr>\n",
       "      <th rowspan=\"3\" valign=\"top\">59</th>\n",
       "      <th>3</th>\n",
       "      <td>35800</td>\n",
       "      <td>589</td>\n",
       "      <td>0.016453</td>\n",
       "    </tr>\n",
       "    <tr>\n",
       "      <th>4</th>\n",
       "      <td>35825</td>\n",
       "      <td>546</td>\n",
       "      <td>0.015241</td>\n",
       "    </tr>\n",
       "    <tr>\n",
       "      <th>5</th>\n",
       "      <td>40521</td>\n",
       "      <td>637</td>\n",
       "      <td>0.015720</td>\n",
       "    </tr>\n",
       "  </tbody>\n",
       "</table>\n",
       "</div>"
      ],
      "text/plain": [
       "                no   yes  proportion_converted\n",
       "price month                                   \n",
       "39    3      62994  1261              0.020018\n",
       "      4      64237  1341              0.020876\n",
       "      5      71256  1428              0.020040\n",
       "59    3      35800   589              0.016453\n",
       "      4      35825   546              0.015241\n",
       "      5      40521   637              0.015720"
      ]
     },
     "execution_count": 18,
     "metadata": {},
     "output_type": "execute_result"
    }
   ],
   "source": [
    "test_results_convertSummary = test_results.groupby(['price','month','converted']).user_id.count().unstack()\n",
    "test_results_convertSummary.columns = ['no','yes']\n",
    "test_results_convertSummary['proportion_converted'] = test_results_convertSummary.yes/test_results_convertSummary.no\n",
    "test_results_convertSummary"
   ]
  },
  {
   "cell_type": "markdown",
   "metadata": {},
   "source": [
    "We'll want to separate source into different categories, so that we can parse out different paths of traffic (i.e., facebook vs google, seo vs adds)"
   ]
  },
  {
   "cell_type": "code",
   "execution_count": 19,
   "metadata": {
    "scrolled": false
   },
   "outputs": [
    {
     "name": "stdout",
     "output_type": "stream",
     "text": [
      "source        device  operative_system\n",
      "ads-bing      mobile  android              5374\n",
      "                      iOS                  6907\n",
      "                      other                1230\n",
      "              web     linux                 247\n",
      "                      mac                  1725\n",
      "                      other                  27\n",
      "                      windows              7321\n",
      "ads-google    mobile  android             13887\n",
      "                      iOS                 18144\n",
      "                      other                2843\n",
      "              web     linux                 878\n",
      "                      mac                  4714\n",
      "                      other                  13\n",
      "                      windows             18863\n",
      "ads-yahoo     mobile  android              1769\n",
      "                      iOS                  2302\n",
      "                      other                 367\n",
      "              web     linux                  87\n",
      "                      mac                   585\n",
      "                      other                  10\n",
      "                      windows              2451\n",
      "ads_facebook  mobile  android             12404\n",
      "                      iOS                 16461\n",
      "                      other                2793\n",
      "              web     linux                 640\n",
      "                      mac                  4238\n",
      "                      other                  24\n",
      "                      windows             16795\n",
      "ads_other     mobile  android              7050\n",
      "                      iOS                  8723\n",
      "                                          ...  \n",
      "seo-bing      web     linux                  13\n",
      "                      mac                   163\n",
      "                      windows               671\n",
      "seo-google    mobile  android              5530\n",
      "                      iOS                  6876\n",
      "                      other                1293\n",
      "              web     linux                 267\n",
      "                      mac                  1924\n",
      "                      other                  12\n",
      "                      windows              7246\n",
      "seo-other     mobile  android              2142\n",
      "                      iOS                  2721\n",
      "                      other                 429\n",
      "              web     linux                 124\n",
      "                      mac                   736\n",
      "                      other                   6\n",
      "                      windows              3086\n",
      "seo-yahoo     mobile  android              1720\n",
      "                      iOS                  1998\n",
      "                      other                 322\n",
      "              web     linux                  99\n",
      "                      mac                   522\n",
      "                      windows              2180\n",
      "seo_facebook  mobile  android              5046\n",
      "                      iOS                  6166\n",
      "                      other                1141\n",
      "              web     linux                 295\n",
      "                      mac                  1613\n",
      "                      other                   2\n",
      "                      windows              6920\n",
      "Name: user_id, Length: 82, dtype: int64\n",
      "\n",
      "unique sources: ['ads_facebook' 'seo-google' 'ads-bing' 'direct_traffic' 'ads-google'\n",
      " 'seo_facebook' 'friend_referral' 'ads_other' 'ads-yahoo' 'seo-yahoo'\n",
      " 'seo-bing' 'seo-other']\n"
     ]
    }
   ],
   "source": [
    "print test_results.groupby(['source','device','operative_system']).user_id.count()\n",
    "print \"\"\n",
    "print 'unique sources: ' + str(test_results.source.unique())"
   ]
  },
  {
   "cell_type": "markdown",
   "metadata": {},
   "source": [
    "It looks like we only need to separate out the source column, and we can do that based on:\n",
    "\n",
    "* marketing type:\n",
    "    * ads\n",
    "    * seo\n",
    "\n",
    "* marketing locaiton\n",
    "    * bing\n",
    "    * google\n",
    "    * yahoo\n",
    "    * facebook\n",
    "    * other\n",
    "\n",
    "two sources that might encompass both, and don't have a group for either, are\n",
    "\n",
    "    * direct_traffic\n",
    "    * friend_referral\n",
    "    \n",
    "It also looks like \"other\" is a pretty sparce category for Operating system, and also pretty uninformative. Let's get rid of it in the cleaning process."
   ]
  },
  {
   "cell_type": "code",
   "execution_count": 20,
   "metadata": {
    "collapsed": true,
    "scrolled": false
   },
   "outputs": [],
   "source": [
    "test_results = test_results.query('operative_system != \"other\"')"
   ]
  },
  {
   "cell_type": "code",
   "execution_count": 21,
   "metadata": {
    "collapsed": true
   },
   "outputs": [],
   "source": [
    "def source_marketType(sourceVal):\n",
    "    if \"ads\" in sourceVal:\n",
    "        return \"ads\"\n",
    "    elif \"seo\" in sourceVal:\n",
    "        return \"seo\"\n",
    "    elif \"direct_traffic\" in sourceVal:\n",
    "        return \"direct_traffic\"\n",
    "    elif \"friend_referral\" in sourceVal:\n",
    "        return \"friend_referral\"\n",
    "    else:\n",
    "        return 'NA'\n",
    "    \n",
    "def source_marketLocation(sourceVal):\n",
    "    if \"bing\" in sourceVal:\n",
    "        return \"bing\"\n",
    "    elif \"google\" in sourceVal:\n",
    "        return \"google\"\n",
    "    elif \"yahoo\" in sourceVal:\n",
    "        return \"yahoo\"\n",
    "    elif \"facebook\" in sourceVal:\n",
    "        return \"facebook\"\n",
    "    elif \"direct_traffic\" in sourceVal:\n",
    "        return \"direct_traffic\"\n",
    "    elif \"friend_referral\" in sourceVal:\n",
    "        return \"friend_referral\"\n",
    "    elif \"other\" in sourceVal:\n",
    "        return \"other\"\n",
    "    else:\n",
    "        return 'NA'\n",
    "    \n",
    "test_results['marketType'] = [source_marketType(x) for x in test_results['source']]\n",
    "test_results['marketLocation'] = [source_marketLocation(x) for x in test_results['source']]"
   ]
  },
  {
   "cell_type": "code",
   "execution_count": 22,
   "metadata": {},
   "outputs": [
    {
     "data": {
      "text/html": [
       "<div>\n",
       "<style>\n",
       "    .dataframe thead tr:only-child th {\n",
       "        text-align: right;\n",
       "    }\n",
       "\n",
       "    .dataframe thead th {\n",
       "        text-align: left;\n",
       "    }\n",
       "\n",
       "    .dataframe tbody tr th {\n",
       "        vertical-align: top;\n",
       "    }\n",
       "</style>\n",
       "<table border=\"1\" class=\"dataframe\">\n",
       "  <thead>\n",
       "    <tr style=\"text-align: right;\">\n",
       "      <th></th>\n",
       "      <th>user_id</th>\n",
       "      <th>timestamp</th>\n",
       "      <th>source</th>\n",
       "      <th>device</th>\n",
       "      <th>operative_system</th>\n",
       "      <th>test</th>\n",
       "      <th>price</th>\n",
       "      <th>converted</th>\n",
       "      <th>year</th>\n",
       "      <th>month</th>\n",
       "      <th>day</th>\n",
       "      <th>hour</th>\n",
       "      <th>minute</th>\n",
       "      <th>second</th>\n",
       "      <th>marketType</th>\n",
       "      <th>marketLocation</th>\n",
       "    </tr>\n",
       "  </thead>\n",
       "  <tbody>\n",
       "    <tr>\n",
       "      <th>0</th>\n",
       "      <td>604839</td>\n",
       "      <td>2015-05-08 03:38:34</td>\n",
       "      <td>ads_facebook</td>\n",
       "      <td>mobile</td>\n",
       "      <td>iOS</td>\n",
       "      <td>0</td>\n",
       "      <td>39</td>\n",
       "      <td>0</td>\n",
       "      <td>2015</td>\n",
       "      <td>5</td>\n",
       "      <td>8</td>\n",
       "      <td>3</td>\n",
       "      <td>38</td>\n",
       "      <td>34</td>\n",
       "      <td>ads</td>\n",
       "      <td>facebook</td>\n",
       "    </tr>\n",
       "    <tr>\n",
       "      <th>1</th>\n",
       "      <td>624057</td>\n",
       "      <td>2015-05-10 21:08:46</td>\n",
       "      <td>seo-google</td>\n",
       "      <td>mobile</td>\n",
       "      <td>android</td>\n",
       "      <td>0</td>\n",
       "      <td>39</td>\n",
       "      <td>0</td>\n",
       "      <td>2015</td>\n",
       "      <td>5</td>\n",
       "      <td>10</td>\n",
       "      <td>21</td>\n",
       "      <td>8</td>\n",
       "      <td>46</td>\n",
       "      <td>seo</td>\n",
       "      <td>google</td>\n",
       "    </tr>\n",
       "    <tr>\n",
       "      <th>2</th>\n",
       "      <td>317970</td>\n",
       "      <td>2015-04-04 15:01:23</td>\n",
       "      <td>ads-bing</td>\n",
       "      <td>mobile</td>\n",
       "      <td>android</td>\n",
       "      <td>0</td>\n",
       "      <td>39</td>\n",
       "      <td>0</td>\n",
       "      <td>2015</td>\n",
       "      <td>4</td>\n",
       "      <td>4</td>\n",
       "      <td>15</td>\n",
       "      <td>1</td>\n",
       "      <td>23</td>\n",
       "      <td>ads</td>\n",
       "      <td>bing</td>\n",
       "    </tr>\n",
       "    <tr>\n",
       "      <th>3</th>\n",
       "      <td>685636</td>\n",
       "      <td>2015-05-07 07:26:01</td>\n",
       "      <td>direct_traffic</td>\n",
       "      <td>mobile</td>\n",
       "      <td>iOS</td>\n",
       "      <td>1</td>\n",
       "      <td>59</td>\n",
       "      <td>0</td>\n",
       "      <td>2015</td>\n",
       "      <td>5</td>\n",
       "      <td>7</td>\n",
       "      <td>7</td>\n",
       "      <td>26</td>\n",
       "      <td>1</td>\n",
       "      <td>direct_traffic</td>\n",
       "      <td>direct_traffic</td>\n",
       "    </tr>\n",
       "    <tr>\n",
       "      <th>4</th>\n",
       "      <td>820854</td>\n",
       "      <td>2015-05-24 11:04:40</td>\n",
       "      <td>ads_facebook</td>\n",
       "      <td>web</td>\n",
       "      <td>mac</td>\n",
       "      <td>0</td>\n",
       "      <td>39</td>\n",
       "      <td>0</td>\n",
       "      <td>2015</td>\n",
       "      <td>5</td>\n",
       "      <td>24</td>\n",
       "      <td>11</td>\n",
       "      <td>4</td>\n",
       "      <td>40</td>\n",
       "      <td>ads</td>\n",
       "      <td>facebook</td>\n",
       "    </tr>\n",
       "  </tbody>\n",
       "</table>\n",
       "</div>"
      ],
      "text/plain": [
       "   user_id           timestamp          source  device operative_system  test  \\\n",
       "0   604839 2015-05-08 03:38:34    ads_facebook  mobile              iOS     0   \n",
       "1   624057 2015-05-10 21:08:46      seo-google  mobile          android     0   \n",
       "2   317970 2015-04-04 15:01:23        ads-bing  mobile          android     0   \n",
       "3   685636 2015-05-07 07:26:01  direct_traffic  mobile              iOS     1   \n",
       "4   820854 2015-05-24 11:04:40    ads_facebook     web              mac     0   \n",
       "\n",
       "   price  converted  year  month  day  hour  minute  second      marketType  \\\n",
       "0     39          0  2015      5    8     3      38      34             ads   \n",
       "1     39          0  2015      5   10    21       8      46             seo   \n",
       "2     39          0  2015      4    4    15       1      23             ads   \n",
       "3     59          0  2015      5    7     7      26       1  direct_traffic   \n",
       "4     39          0  2015      5   24    11       4      40             ads   \n",
       "\n",
       "   marketLocation  \n",
       "0        facebook  \n",
       "1          google  \n",
       "2            bing  \n",
       "3  direct_traffic  \n",
       "4        facebook  "
      ]
     },
     "execution_count": 22,
     "metadata": {},
     "output_type": "execute_result"
    }
   ],
   "source": [
    "test_results.head(5)"
   ]
  },
  {
   "cell_type": "code",
   "execution_count": 23,
   "metadata": {},
   "outputs": [
    {
     "data": {
      "text/html": [
       "<div>\n",
       "<style>\n",
       "    .dataframe thead tr:only-child th {\n",
       "        text-align: right;\n",
       "    }\n",
       "\n",
       "    .dataframe thead th {\n",
       "        text-align: left;\n",
       "    }\n",
       "\n",
       "    .dataframe tbody tr th {\n",
       "        vertical-align: top;\n",
       "    }\n",
       "</style>\n",
       "<table border=\"1\" class=\"dataframe\">\n",
       "  <thead>\n",
       "    <tr style=\"text-align: right;\">\n",
       "      <th></th>\n",
       "      <th></th>\n",
       "      <th></th>\n",
       "      <th>no</th>\n",
       "      <th>yes</th>\n",
       "      <th>proportion_converted</th>\n",
       "    </tr>\n",
       "    <tr>\n",
       "      <th>price</th>\n",
       "      <th>marketType</th>\n",
       "      <th>marketLocation</th>\n",
       "      <th></th>\n",
       "      <th></th>\n",
       "      <th></th>\n",
       "    </tr>\n",
       "  </thead>\n",
       "  <tbody>\n",
       "    <tr>\n",
       "      <th rowspan=\"12\" valign=\"top\">39</th>\n",
       "      <th rowspan=\"5\" valign=\"top\">ads</th>\n",
       "      <th>bing</th>\n",
       "      <td>13622</td>\n",
       "      <td>188</td>\n",
       "      <td>0.013801</td>\n",
       "    </tr>\n",
       "    <tr>\n",
       "      <th>facebook</th>\n",
       "      <td>31434</td>\n",
       "      <td>779</td>\n",
       "      <td>0.024782</td>\n",
       "    </tr>\n",
       "    <tr>\n",
       "      <th>google</th>\n",
       "      <td>35139</td>\n",
       "      <td>814</td>\n",
       "      <td>0.023165</td>\n",
       "    </tr>\n",
       "    <tr>\n",
       "      <th>other</th>\n",
       "      <td>17934</td>\n",
       "      <td>285</td>\n",
       "      <td>0.015892</td>\n",
       "    </tr>\n",
       "    <tr>\n",
       "      <th>yahoo</th>\n",
       "      <td>4488</td>\n",
       "      <td>79</td>\n",
       "      <td>0.017602</td>\n",
       "    </tr>\n",
       "    <tr>\n",
       "      <th>direct_traffic</th>\n",
       "      <th>direct_traffic</th>\n",
       "      <td>36175</td>\n",
       "      <td>507</td>\n",
       "      <td>0.014015</td>\n",
       "    </tr>\n",
       "    <tr>\n",
       "      <th>friend_referral</th>\n",
       "      <th>friend_referral</th>\n",
       "      <td>12048</td>\n",
       "      <td>530</td>\n",
       "      <td>0.043991</td>\n",
       "    </tr>\n",
       "    <tr>\n",
       "      <th rowspan=\"5\" valign=\"top\">seo</th>\n",
       "      <th>bing</th>\n",
       "      <td>1234</td>\n",
       "      <td>39</td>\n",
       "      <td>0.031605</td>\n",
       "    </tr>\n",
       "    <tr>\n",
       "      <th>facebook</th>\n",
       "      <td>12502</td>\n",
       "      <td>228</td>\n",
       "      <td>0.018237</td>\n",
       "    </tr>\n",
       "    <tr>\n",
       "      <th>google</th>\n",
       "      <td>13964</td>\n",
       "      <td>249</td>\n",
       "      <td>0.017832</td>\n",
       "    </tr>\n",
       "    <tr>\n",
       "      <th>other</th>\n",
       "      <td>5521</td>\n",
       "      <td>101</td>\n",
       "      <td>0.018294</td>\n",
       "    </tr>\n",
       "    <tr>\n",
       "      <th>yahoo</th>\n",
       "      <td>4092</td>\n",
       "      <td>84</td>\n",
       "      <td>0.020528</td>\n",
       "    </tr>\n",
       "    <tr>\n",
       "      <th rowspan=\"12\" valign=\"top\">59</th>\n",
       "      <th rowspan=\"5\" valign=\"top\">ads</th>\n",
       "      <th>bing</th>\n",
       "      <td>7686</td>\n",
       "      <td>78</td>\n",
       "      <td>0.010148</td>\n",
       "    </tr>\n",
       "    <tr>\n",
       "      <th>facebook</th>\n",
       "      <td>18007</td>\n",
       "      <td>318</td>\n",
       "      <td>0.017660</td>\n",
       "    </tr>\n",
       "    <tr>\n",
       "      <th>google</th>\n",
       "      <td>20129</td>\n",
       "      <td>404</td>\n",
       "      <td>0.020071</td>\n",
       "    </tr>\n",
       "    <tr>\n",
       "      <th>other</th>\n",
       "      <td>9905</td>\n",
       "      <td>128</td>\n",
       "      <td>0.012923</td>\n",
       "    </tr>\n",
       "    <tr>\n",
       "      <th>yahoo</th>\n",
       "      <td>2597</td>\n",
       "      <td>30</td>\n",
       "      <td>0.011552</td>\n",
       "    </tr>\n",
       "    <tr>\n",
       "      <th>direct_traffic</th>\n",
       "      <th>direct_traffic</th>\n",
       "      <td>20275</td>\n",
       "      <td>209</td>\n",
       "      <td>0.010308</td>\n",
       "    </tr>\n",
       "    <tr>\n",
       "      <th>friend_referral</th>\n",
       "      <th>friend_referral</th>\n",
       "      <td>6968</td>\n",
       "      <td>242</td>\n",
       "      <td>0.034730</td>\n",
       "    </tr>\n",
       "    <tr>\n",
       "      <th rowspan=\"5\" valign=\"top\">seo</th>\n",
       "      <th>bing</th>\n",
       "      <td>765</td>\n",
       "      <td>11</td>\n",
       "      <td>0.014379</td>\n",
       "    </tr>\n",
       "    <tr>\n",
       "      <th>facebook</th>\n",
       "      <td>7210</td>\n",
       "      <td>100</td>\n",
       "      <td>0.013870</td>\n",
       "    </tr>\n",
       "    <tr>\n",
       "      <th>google</th>\n",
       "      <td>7504</td>\n",
       "      <td>126</td>\n",
       "      <td>0.016791</td>\n",
       "    </tr>\n",
       "    <tr>\n",
       "      <th>other</th>\n",
       "      <td>3148</td>\n",
       "      <td>39</td>\n",
       "      <td>0.012389</td>\n",
       "    </tr>\n",
       "    <tr>\n",
       "      <th>yahoo</th>\n",
       "      <td>2319</td>\n",
       "      <td>24</td>\n",
       "      <td>0.010349</td>\n",
       "    </tr>\n",
       "  </tbody>\n",
       "</table>\n",
       "</div>"
      ],
      "text/plain": [
       "                                          no  yes  proportion_converted\n",
       "price marketType      marketLocation                                   \n",
       "39    ads             bing             13622  188              0.013801\n",
       "                      facebook         31434  779              0.024782\n",
       "                      google           35139  814              0.023165\n",
       "                      other            17934  285              0.015892\n",
       "                      yahoo             4488   79              0.017602\n",
       "      direct_traffic  direct_traffic   36175  507              0.014015\n",
       "      friend_referral friend_referral  12048  530              0.043991\n",
       "      seo             bing              1234   39              0.031605\n",
       "                      facebook         12502  228              0.018237\n",
       "                      google           13964  249              0.017832\n",
       "                      other             5521  101              0.018294\n",
       "                      yahoo             4092   84              0.020528\n",
       "59    ads             bing              7686   78              0.010148\n",
       "                      facebook         18007  318              0.017660\n",
       "                      google           20129  404              0.020071\n",
       "                      other             9905  128              0.012923\n",
       "                      yahoo             2597   30              0.011552\n",
       "      direct_traffic  direct_traffic   20275  209              0.010308\n",
       "      friend_referral friend_referral   6968  242              0.034730\n",
       "      seo             bing               765   11              0.014379\n",
       "                      facebook          7210  100              0.013870\n",
       "                      google            7504  126              0.016791\n",
       "                      other             3148   39              0.012389\n",
       "                      yahoo             2319   24              0.010349"
      ]
     },
     "execution_count": 23,
     "metadata": {},
     "output_type": "execute_result"
    }
   ],
   "source": [
    "test_results_marketSummary = test_results.groupby(['price','marketType','marketLocation','converted']).user_id.count().unstack()\n",
    "test_results_marketSummary.columns = ['no','yes']\n",
    "test_results_marketSummary['proportion_converted'] = test_results_marketSummary.yes/test_results_marketSummary.no\n",
    "test_results_marketSummary"
   ]
  },
  {
   "cell_type": "code",
   "execution_count": 24,
   "metadata": {},
   "outputs": [
    {
     "data": {
      "image/png": "[encoded data removed]",
      "text/plain": [
       "<matplotlib.figure.Figure at 0x116a1f150>"
      ]
     },
     "metadata": {},
     "output_type": "display_data"
    }
   ],
   "source": [
    "sns.factorplot(x=\"marketLocation\", y=\"proportion_converted\", col=\"marketType\",hue=\"price\",col_wrap=2,size=4,\n",
    "                    data=test_results_marketSummary.reset_index(),\n",
    "                    kind=\"bar\")\n",
    "plt.show()"
   ]
  },
  {
   "cell_type": "markdown",
   "metadata": {},
   "source": [
    "Just looking at the proportion of conversions, it seems as if there is consistently higher conversion for the lower price, but that conversion varies by market_locaiton, and moreso than market-type. This seems like an aditive realtion, and not an interactive relationship.\n",
    "\n",
    "let's take a look at the regional data from the other table."
   ]
  },
  {
   "cell_type": "code",
   "execution_count": 25,
   "metadata": {},
   "outputs": [
    {
     "data": {
      "text/plain": [
       "array(['USA'], dtype=object)"
      ]
     },
     "execution_count": 25,
     "metadata": {},
     "output_type": "execute_result"
    }
   ],
   "source": [
    "user_table.country.unique()"
   ]
  },
  {
   "cell_type": "markdown",
   "metadata": {},
   "source": [
    "Looks like we're only dealing within the US, so we can ignore country"
   ]
  },
  {
   "cell_type": "code",
   "execution_count": 26,
   "metadata": {},
   "outputs": [
    {
     "data": {
      "text/plain": [
       "923"
      ]
     },
     "execution_count": 26,
     "metadata": {},
     "output_type": "execute_result"
    }
   ],
   "source": [
    "len(user_table.city.unique())"
   ]
  },
  {
   "cell_type": "markdown",
   "metadata": {},
   "source": [
    "We have a LOT of cities though, so let's try to reduce the number using the long and lat and a kmean clustering approach"
   ]
  },
  {
   "cell_type": "code",
   "execution_count": 27,
   "metadata": {},
   "outputs": [
    {
     "data": {
      "image/png": "[encoded data removed]",
      "text/plain": [
       "<matplotlib.figure.Figure at 0x114ad5590>"
      ]
     },
     "metadata": {},
     "output_type": "display_data"
    }
   ],
   "source": [
    "user_table.plot('lat','long',kind='scatter')\n",
    "plt.show()\n"
   ]
  },
  {
   "cell_type": "markdown",
   "metadata": {},
   "source": [
    "We can already see some majopr outliers spatially. Let's see where those are and try to remove them."
   ]
  },
  {
   "cell_type": "code",
   "execution_count": 28,
   "metadata": {
    "collapsed": true
   },
   "outputs": [],
   "source": [
    "long_mean = np.mean(user_table.long)\n",
    "long_std = np.std(user_table.long)\n",
    "long_min = long_mean-(1.96*long_std)\n",
    "long_max =  long_mean+(1.96*long_std)\n",
    "\n",
    "lat_mean = np.mean(user_table.lat)\n",
    "lat_std = np.std(user_table.lat)\n",
    "lat_min = lat_mean-(1.96*lat_std)\n",
    "lat_max =  lat_mean+(1.96*lat_std)\n",
    "\n",
    "user_table = user_table.query('long <= ' + str(long_max) +' and long >= ' + str(long_min) +' and lat <= ' + str(lat_max) +' and lat >= ' + str(lat_min))\n"
   ]
  },
  {
   "cell_type": "code",
   "execution_count": 34,
   "metadata": {},
   "outputs": [
    {
     "data": {
      "image/png": "[encoded data removed]",
      "text/plain": [
       "<matplotlib.figure.Figure at 0x114c034d0>"
      ]
     },
     "metadata": {},
     "output_type": "display_data"
    }
   ],
   "source": [
    "user_table.plot('long','lat',kind='scatter')\n",
    "plt.show()"
   ]
  },
  {
   "cell_type": "markdown",
   "metadata": {},
   "source": [
    "That looks better now. Let's cluster them into groups."
   ]
  },
  {
   "cell_type": "code",
   "execution_count": 30,
   "metadata": {},
   "outputs": [
    {
     "data": {
      "image/png": "[encoded data removed]",
      "text/plain": [
       "<matplotlib.figure.Figure at 0x11a27dfd0>"
      ]
     },
     "metadata": {},
     "output_type": "display_data"
    }
   ],
   "source": [
    "# k means determine k\n",
    "X = user_table[['lat','long']]\n",
    "distortions = []\n",
    "K = range(1,10)\n",
    "for k in K:\n",
    "    kmeanModel = KMeans(n_clusters=k).fit(X)\n",
    "    kmeanModel.fit(X)\n",
    "    distortions.append(sum(np.min(cdist(X, kmeanModel.cluster_centers_, 'euclidean'), axis=1)) / X.shape[0])\n",
    " \n",
    "# Plot the elbow\n",
    "plt.plot(K, distortions, 'bx-')\n",
    "plt.xlabel('k')\n",
    "plt.ylabel('Distortion')\n",
    "plt.title('The Elbow Method showing the optimal k')\n",
    "plt.show()\n"
   ]
  },
  {
   "cell_type": "markdown",
   "metadata": {},
   "source": [
    "Lets say we're not geting much more useful info after 4 clusters, and go with that. So in this case, we're assuming results might change regionally"
   ]
  },
  {
   "cell_type": "code",
   "execution_count": 35,
   "metadata": {},
   "outputs": [
    {
     "data": {
      "text/html": [
       "<div>\n",
       "<style>\n",
       "    .dataframe thead tr:only-child th {\n",
       "        text-align: right;\n",
       "    }\n",
       "\n",
       "    .dataframe thead th {\n",
       "        text-align: left;\n",
       "    }\n",
       "\n",
       "    .dataframe tbody tr th {\n",
       "        vertical-align: top;\n",
       "    }\n",
       "</style>\n",
       "<table border=\"1\" class=\"dataframe\">\n",
       "  <thead>\n",
       "    <tr style=\"text-align: right;\">\n",
       "      <th></th>\n",
       "      <th>user_id</th>\n",
       "      <th>city</th>\n",
       "      <th>country</th>\n",
       "      <th>lat</th>\n",
       "      <th>long</th>\n",
       "      <th>city_id</th>\n",
       "    </tr>\n",
       "  </thead>\n",
       "  <tbody>\n",
       "    <tr>\n",
       "      <th>0</th>\n",
       "      <td>510335</td>\n",
       "      <td>Peabody</td>\n",
       "      <td>USA</td>\n",
       "      <td>42.53</td>\n",
       "      <td>-70.97</td>\n",
       "      <td>3</td>\n",
       "    </tr>\n",
       "    <tr>\n",
       "      <th>1</th>\n",
       "      <td>89568</td>\n",
       "      <td>Reno</td>\n",
       "      <td>USA</td>\n",
       "      <td>39.54</td>\n",
       "      <td>-119.82</td>\n",
       "      <td>2</td>\n",
       "    </tr>\n",
       "    <tr>\n",
       "      <th>2</th>\n",
       "      <td>434134</td>\n",
       "      <td>Rialto</td>\n",
       "      <td>USA</td>\n",
       "      <td>34.11</td>\n",
       "      <td>-117.39</td>\n",
       "      <td>2</td>\n",
       "    </tr>\n",
       "    <tr>\n",
       "      <th>3</th>\n",
       "      <td>289769</td>\n",
       "      <td>Carson City</td>\n",
       "      <td>USA</td>\n",
       "      <td>39.15</td>\n",
       "      <td>-119.74</td>\n",
       "      <td>2</td>\n",
       "    </tr>\n",
       "    <tr>\n",
       "      <th>4</th>\n",
       "      <td>939586</td>\n",
       "      <td>Chicago</td>\n",
       "      <td>USA</td>\n",
       "      <td>41.84</td>\n",
       "      <td>-87.68</td>\n",
       "      <td>1</td>\n",
       "    </tr>\n",
       "  </tbody>\n",
       "</table>\n",
       "</div>"
      ],
      "text/plain": [
       "   user_id         city country    lat    long  city_id\n",
       "0   510335      Peabody     USA  42.53  -70.97        3\n",
       "1    89568         Reno     USA  39.54 -119.82        2\n",
       "2   434134       Rialto     USA  34.11 -117.39        2\n",
       "3   289769  Carson City     USA  39.15 -119.74        2\n",
       "4   939586      Chicago     USA  41.84  -87.68        1"
      ]
     },
     "execution_count": 35,
     "metadata": {},
     "output_type": "execute_result"
    }
   ],
   "source": [
    "city_clusters = KMeans(n_clusters=4).fit(user_table[['lat','long']])\n",
    "city_id = city_clusters.predict(user_table[['lat','long']]).tolist()\n",
    "user_table['city_id'] = np.add(city_id,1)\n",
    "user_table.head(5)"
   ]
  },
  {
   "cell_type": "code",
   "execution_count": 36,
   "metadata": {},
   "outputs": [
    {
     "data": {
      "image/png": "[encoded data removed]",
      "text/plain": [
       "<matplotlib.figure.Figure at 0x11a27d590>"
      ]
     },
     "metadata": {},
     "output_type": "display_data"
    }
   ],
   "source": [
    "user_table.plot('long','lat',color=city_id,kind='scatter')\n",
    "plt.show()"
   ]
  },
  {
   "cell_type": "markdown",
   "metadata": {},
   "source": [
    "It looks as if things clustered by longitude. lt's let that hold for now.\n",
    "\n",
    "Let's match city_id to user data in the other table"
   ]
  },
  {
   "cell_type": "code",
   "execution_count": 37,
   "metadata": {},
   "outputs": [
    {
     "data": {
      "text/html": [
       "<div>\n",
       "<style>\n",
       "    .dataframe thead tr:only-child th {\n",
       "        text-align: right;\n",
       "    }\n",
       "\n",
       "    .dataframe thead th {\n",
       "        text-align: left;\n",
       "    }\n",
       "\n",
       "    .dataframe tbody tr th {\n",
       "        vertical-align: top;\n",
       "    }\n",
       "</style>\n",
       "<table border=\"1\" class=\"dataframe\">\n",
       "  <thead>\n",
       "    <tr style=\"text-align: right;\">\n",
       "      <th></th>\n",
       "      <th>user_id</th>\n",
       "      <th>timestamp</th>\n",
       "      <th>source</th>\n",
       "      <th>device</th>\n",
       "      <th>operative_system</th>\n",
       "      <th>test</th>\n",
       "      <th>price</th>\n",
       "      <th>converted</th>\n",
       "      <th>year</th>\n",
       "      <th>month</th>\n",
       "      <th>...</th>\n",
       "      <th>hour</th>\n",
       "      <th>minute</th>\n",
       "      <th>second</th>\n",
       "      <th>marketType</th>\n",
       "      <th>marketLocation</th>\n",
       "      <th>city</th>\n",
       "      <th>country</th>\n",
       "      <th>lat</th>\n",
       "      <th>long</th>\n",
       "      <th>city_id</th>\n",
       "    </tr>\n",
       "  </thead>\n",
       "  <tbody>\n",
       "    <tr>\n",
       "      <th>0</th>\n",
       "      <td>604839</td>\n",
       "      <td>2015-05-08 03:38:34</td>\n",
       "      <td>ads_facebook</td>\n",
       "      <td>mobile</td>\n",
       "      <td>iOS</td>\n",
       "      <td>0</td>\n",
       "      <td>39</td>\n",
       "      <td>0</td>\n",
       "      <td>2015</td>\n",
       "      <td>5</td>\n",
       "      <td>...</td>\n",
       "      <td>3</td>\n",
       "      <td>38</td>\n",
       "      <td>34</td>\n",
       "      <td>ads</td>\n",
       "      <td>facebook</td>\n",
       "      <td>Buffalo</td>\n",
       "      <td>USA</td>\n",
       "      <td>42.89</td>\n",
       "      <td>-78.86</td>\n",
       "      <td>3</td>\n",
       "    </tr>\n",
       "    <tr>\n",
       "      <th>1</th>\n",
       "      <td>624057</td>\n",
       "      <td>2015-05-10 21:08:46</td>\n",
       "      <td>seo-google</td>\n",
       "      <td>mobile</td>\n",
       "      <td>android</td>\n",
       "      <td>0</td>\n",
       "      <td>39</td>\n",
       "      <td>0</td>\n",
       "      <td>2015</td>\n",
       "      <td>5</td>\n",
       "      <td>...</td>\n",
       "      <td>21</td>\n",
       "      <td>8</td>\n",
       "      <td>46</td>\n",
       "      <td>seo</td>\n",
       "      <td>google</td>\n",
       "      <td>Lakeville</td>\n",
       "      <td>USA</td>\n",
       "      <td>44.68</td>\n",
       "      <td>-93.24</td>\n",
       "      <td>1</td>\n",
       "    </tr>\n",
       "    <tr>\n",
       "      <th>2</th>\n",
       "      <td>317970</td>\n",
       "      <td>2015-04-04 15:01:23</td>\n",
       "      <td>ads-bing</td>\n",
       "      <td>mobile</td>\n",
       "      <td>android</td>\n",
       "      <td>0</td>\n",
       "      <td>39</td>\n",
       "      <td>0</td>\n",
       "      <td>2015</td>\n",
       "      <td>4</td>\n",
       "      <td>...</td>\n",
       "      <td>15</td>\n",
       "      <td>1</td>\n",
       "      <td>23</td>\n",
       "      <td>ads</td>\n",
       "      <td>bing</td>\n",
       "      <td>Parma</td>\n",
       "      <td>USA</td>\n",
       "      <td>41.38</td>\n",
       "      <td>-81.73</td>\n",
       "      <td>1</td>\n",
       "    </tr>\n",
       "    <tr>\n",
       "      <th>3</th>\n",
       "      <td>685636</td>\n",
       "      <td>2015-05-07 07:26:01</td>\n",
       "      <td>direct_traffic</td>\n",
       "      <td>mobile</td>\n",
       "      <td>iOS</td>\n",
       "      <td>1</td>\n",
       "      <td>59</td>\n",
       "      <td>0</td>\n",
       "      <td>2015</td>\n",
       "      <td>5</td>\n",
       "      <td>...</td>\n",
       "      <td>7</td>\n",
       "      <td>26</td>\n",
       "      <td>1</td>\n",
       "      <td>direct_traffic</td>\n",
       "      <td>direct_traffic</td>\n",
       "      <td>Fayetteville</td>\n",
       "      <td>USA</td>\n",
       "      <td>35.07</td>\n",
       "      <td>-78.90</td>\n",
       "      <td>3</td>\n",
       "    </tr>\n",
       "    <tr>\n",
       "      <th>4</th>\n",
       "      <td>820854</td>\n",
       "      <td>2015-05-24 11:04:40</td>\n",
       "      <td>ads_facebook</td>\n",
       "      <td>web</td>\n",
       "      <td>mac</td>\n",
       "      <td>0</td>\n",
       "      <td>39</td>\n",
       "      <td>0</td>\n",
       "      <td>2015</td>\n",
       "      <td>5</td>\n",
       "      <td>...</td>\n",
       "      <td>11</td>\n",
       "      <td>4</td>\n",
       "      <td>40</td>\n",
       "      <td>ads</td>\n",
       "      <td>facebook</td>\n",
       "      <td>Fishers</td>\n",
       "      <td>USA</td>\n",
       "      <td>39.95</td>\n",
       "      <td>-86.02</td>\n",
       "      <td>1</td>\n",
       "    </tr>\n",
       "  </tbody>\n",
       "</table>\n",
       "<p>5 rows × 21 columns</p>\n",
       "</div>"
      ],
      "text/plain": [
       "   user_id           timestamp          source  device operative_system  test  \\\n",
       "0   604839 2015-05-08 03:38:34    ads_facebook  mobile              iOS     0   \n",
       "1   624057 2015-05-10 21:08:46      seo-google  mobile          android     0   \n",
       "2   317970 2015-04-04 15:01:23        ads-bing  mobile          android     0   \n",
       "3   685636 2015-05-07 07:26:01  direct_traffic  mobile              iOS     1   \n",
       "4   820854 2015-05-24 11:04:40    ads_facebook     web              mac     0   \n",
       "\n",
       "   price  converted  year  month   ...     hour  minute  second  \\\n",
       "0     39          0  2015      5   ...        3      38      34   \n",
       "1     39          0  2015      5   ...       21       8      46   \n",
       "2     39          0  2015      4   ...       15       1      23   \n",
       "3     59          0  2015      5   ...        7      26       1   \n",
       "4     39          0  2015      5   ...       11       4      40   \n",
       "\n",
       "       marketType  marketLocation          city country    lat   long  city_id  \n",
       "0             ads        facebook       Buffalo     USA  42.89 -78.86        3  \n",
       "1             seo          google     Lakeville     USA  44.68 -93.24        1  \n",
       "2             ads            bing         Parma     USA  41.38 -81.73        1  \n",
       "3  direct_traffic  direct_traffic  Fayetteville     USA  35.07 -78.90        3  \n",
       "4             ads        facebook       Fishers     USA  39.95 -86.02        1  \n",
       "\n",
       "[5 rows x 21 columns]"
      ]
     },
     "execution_count": 37,
     "metadata": {},
     "output_type": "execute_result"
    }
   ],
   "source": [
    "test_results = pd.merge(test_results, user_table, left_on = ['user_id'], right_on = ['user_id'])\n",
    "test_results.head(5)"
   ]
  },
  {
   "cell_type": "markdown",
   "metadata": {},
   "source": [
    "OK, now let's make a dataframe to run through a logistic regression, to understand where the siginificant variaiton is"
   ]
  },
  {
   "cell_type": "code",
   "execution_count": 42,
   "metadata": {},
   "outputs": [
    {
     "data": {
      "text/plain": [
       "converted          int64\n",
       "test               int64\n",
       "month              int64\n",
       "hour               int64\n",
       "device            object\n",
       "marketType        object\n",
       "marketLocation    object\n",
       "city_id            int64\n",
       "dtype: object"
      ]
     },
     "execution_count": 42,
     "metadata": {},
     "output_type": "execute_result"
    }
   ],
   "source": [
    "test_results_Sub = test_results[['converted','test','month','hour','device','marketType','marketLocation','city_id']]\n",
    "test_results_Sub.dtypes"
   ]
  },
  {
   "cell_type": "code",
   "execution_count": 43,
   "metadata": {},
   "outputs": [
    {
     "data": {
      "text/plain": [
       "converted             bool\n",
       "test                  bool\n",
       "month             category\n",
       "hour              category\n",
       "device            category\n",
       "marketType        category\n",
       "marketLocation    category\n",
       "city_id           category\n",
       "dtype: object"
      ]
     },
     "execution_count": 43,
     "metadata": {},
     "output_type": "execute_result"
    }
   ],
   "source": [
    "# turn items into categories, and one-hot-encode them, and turn hours into quarter hours on the clock\n",
    "test_results_Sub.converted = test_results_Sub.converted.astype(bool)\n",
    "test_results_Sub.test = test_results_Sub.test.astype(bool)\n",
    "test_results_Sub.month = test_results_Sub.month.astype(\"category\")\n",
    "test_results_Sub.device = test_results_Sub.device.astype(\"category\")\n",
    "test_results_Sub.marketType = test_results_Sub.marketType.astype(\"category\")\n",
    "test_results_Sub.marketLocation = test_results_Sub.marketLocation.astype(\"category\")\n",
    "test_results_Sub.city_id = test_results_Sub.city_id.astype(\"category\")\n",
    "\n",
    "def hourChange(hour):\n",
    "    if hour>=0 and hour <6:\n",
    "        return 1\n",
    "    elif hour>=6 and hour <12:\n",
    "        return 2\n",
    "    elif hour>=12 and hour <18:\n",
    "        return 3\n",
    "    elif hour>=18 and hour <24:\n",
    "        return 4\n",
    "    \n",
    "test_results_Sub.hour = [hourChange(x) for x in test_results_Sub.hour]\n",
    "test_results_Sub.hour = test_results_Sub.hour.astype(\"category\")\n",
    "\n",
    "test_results_Sub.dtypes"
   ]
  },
  {
   "cell_type": "code",
   "execution_count": 116,
   "metadata": {},
   "outputs": [
    {
     "data": {
      "text/html": [
       "<div>\n",
       "<style>\n",
       "    .dataframe thead tr:only-child th {\n",
       "        text-align: right;\n",
       "    }\n",
       "\n",
       "    .dataframe thead th {\n",
       "        text-align: left;\n",
       "    }\n",
       "\n",
       "    .dataframe tbody tr th {\n",
       "        vertical-align: top;\n",
       "    }\n",
       "</style>\n",
       "<table border=\"1\" class=\"dataframe\">\n",
       "  <thead>\n",
       "    <tr style=\"text-align: right;\">\n",
       "      <th></th>\n",
       "      <th></th>\n",
       "      <th></th>\n",
       "      <th></th>\n",
       "      <th></th>\n",
       "      <th>no</th>\n",
       "      <th>yes</th>\n",
       "      <th>proportion_converted</th>\n",
       "    </tr>\n",
       "    <tr>\n",
       "      <th>test</th>\n",
       "      <th>marketType</th>\n",
       "      <th>marketLocation</th>\n",
       "      <th>city_id</th>\n",
       "      <th>hour</th>\n",
       "      <th></th>\n",
       "      <th></th>\n",
       "      <th></th>\n",
       "    </tr>\n",
       "  </thead>\n",
       "  <tbody>\n",
       "    <tr>\n",
       "      <th rowspan=\"5\" valign=\"top\">False</th>\n",
       "      <th rowspan=\"5\" valign=\"top\">ads</th>\n",
       "      <th rowspan=\"5\" valign=\"top\">bing</th>\n",
       "      <th rowspan=\"4\" valign=\"top\">1</th>\n",
       "      <th>1</th>\n",
       "      <td>331.0</td>\n",
       "      <td>6.0</td>\n",
       "      <td>0.018127</td>\n",
       "    </tr>\n",
       "    <tr>\n",
       "      <th>2</th>\n",
       "      <td>1123.0</td>\n",
       "      <td>9.0</td>\n",
       "      <td>0.008014</td>\n",
       "    </tr>\n",
       "    <tr>\n",
       "      <th>3</th>\n",
       "      <td>1211.0</td>\n",
       "      <td>12.0</td>\n",
       "      <td>0.009909</td>\n",
       "    </tr>\n",
       "    <tr>\n",
       "      <th>4</th>\n",
       "      <td>428.0</td>\n",
       "      <td>5.0</td>\n",
       "      <td>0.011682</td>\n",
       "    </tr>\n",
       "    <tr>\n",
       "      <th>2</th>\n",
       "      <th>1</th>\n",
       "      <td>330.0</td>\n",
       "      <td>3.0</td>\n",
       "      <td>0.009091</td>\n",
       "    </tr>\n",
       "  </tbody>\n",
       "</table>\n",
       "</div>"
      ],
      "text/plain": [
       "                                                  no   yes  \\\n",
       "test  marketType marketLocation city_id hour                 \n",
       "False ads        bing           1       1      331.0   6.0   \n",
       "                                        2     1123.0   9.0   \n",
       "                                        3     1211.0  12.0   \n",
       "                                        4      428.0   5.0   \n",
       "                                2       1      330.0   3.0   \n",
       "\n",
       "                                              proportion_converted  \n",
       "test  marketType marketLocation city_id hour                        \n",
       "False ads        bing           1       1                 0.018127  \n",
       "                                        2                 0.008014  \n",
       "                                        3                 0.009909  \n",
       "                                        4                 0.011682  \n",
       "                                2       1                 0.009091  "
      ]
     },
     "execution_count": 116,
     "metadata": {},
     "output_type": "execute_result"
    }
   ],
   "source": [
    "test_results_Sub_Summary = test_results_Sub.groupby(['test','marketType','marketLocation','city_id','hour','converted']).month.count().unstack()\n",
    "test_results_Sub_Summary.columns = ['no','yes']\n",
    "test_results_Sub_Summary['proportion_converted'] = test_results_Sub_Summary.yes/test_results_Sub_Summary.no\n",
    "test_results_Sub_Summary = test_results_Sub_Summary.fillna(0)\n",
    "test_results_Sub_Summary.head(5)\n"
   ]
  },
  {
   "cell_type": "code",
   "execution_count": 105,
   "metadata": {},
   "outputs": [
    {
     "name": "stdout",
     "output_type": "stream",
     "text": [
      "                 Generalized Linear Model Regression Results                  \n",
      "==============================================================================\n",
      "Dep. Variable:                      y   No. Observations:               247107\n",
      "Model:                            GLM   Df Residuals:                   247105\n",
      "Model Family:                Binomial   Df Model:                            1\n",
      "Link Function:                  logit   Scale:                             1.0\n",
      "Method:                          IRLS   Log-Likelihood:                -22663.\n",
      "Date:                Sun, 15 Oct 2017   Deviance:                       45327.\n",
      "Time:                        21:49:47   Pearson chi2:                 2.47e+05\n",
      "No. Iterations:                     7                                         \n",
      "================================================================================\n",
      "                   coef    std err          z      P>|z|      [0.025      0.975]\n",
      "--------------------------------------------------------------------------------\n",
      "Intercept       -3.8900      0.018   -216.678      0.000      -3.925      -3.855\n",
      "test[T.True]    -0.2567      0.032     -7.904      0.000      -0.320      -0.193\n",
      "================================================================================\n"
     ]
    }
   ],
   "source": [
    "test_results_Sub2 = test_results_Sub[['converted','test']]\n",
    "y1, X1 = dmatrices('converted ~ test',\n",
    "                  test_results_Sub2, return_type=\"dataframe\")\n",
    "y1 = np.ravel(y1['converted[True]'])\n",
    "\n",
    "glm_binom = sm.GLM(y1, X1, family=sm.families.Binomial(),class_weight='balanced')\n",
    "res = glm_binom.fit()\n",
    "print res.summary()\n",
    "\n"
   ]
  },
  {
   "cell_type": "code",
   "execution_count": 107,
   "metadata": {},
   "outputs": [
    {
     "name": "stdout",
     "output_type": "stream",
     "text": [
      "0.773600259035\n"
     ]
    }
   ],
   "source": [
    "print np.exp( -0.2567) "
   ]
  },
  {
   "cell_type": "code",
   "execution_count": 109,
   "metadata": {},
   "outputs": [
    {
     "data": {
      "text/plain": [
       "45.6424152830431"
      ]
     },
     "execution_count": 109,
     "metadata": {},
     "output_type": "execute_result"
    }
   ],
   "source": [
    "59*np.exp( -0.2567)"
   ]
  },
  {
   "cell_type": "markdown",
   "metadata": {},
   "source": [
    "So there's a negative effect of test on the conversion rate. Only 77.36 times out of 100 will the site convert a user if the price is increased... but, at the new price of 59 dollars, that means the average yield per user is still 46 dollars rather than 39 dollars, so the CEO should probably increase the price.\n",
    "\n",
    "let's see if we can parse out any other effects in the dataset"
   ]
  },
  {
   "cell_type": "markdown",
   "metadata": {},
   "source": [
    "based on a power calculation using this odds ratio, and alpha of 0.05, and the probabilities seen in the data, we need approximately 42000 samples to achieve 80% power. We obsaerved a total of 247107 individuals."
   ]
  },
  {
   "cell_type": "code",
   "execution_count": 171,
   "metadata": {},
   "outputs": [
    {
     "data": {
      "text/plain": [
       "205107"
      ]
     },
     "execution_count": 171,
     "metadata": {},
     "output_type": "execute_result"
    }
   ],
   "source": [
    "247107-42000"
   ]
  },
  {
   "cell_type": "markdown",
   "metadata": {},
   "source": [
    "This suggesgts we could have stopped the experiment much earlier (205,107 users earlier) and still detected this difference."
   ]
  },
  {
   "cell_type": "code",
   "execution_count": 115,
   "metadata": {},
   "outputs": [
    {
     "name": "stdout",
     "output_type": "stream",
     "text": [
      "                 Generalized Linear Model Regression Results                  \n",
      "==============================================================================\n",
      "Dep. Variable:                      y   No. Observations:               158025\n",
      "Model:                            GLM   Df Residuals:                   158011\n",
      "Model Family:                Binomial   Df Model:                           13\n",
      "Link Function:                  logit   Scale:                             1.0\n",
      "Method:                          IRLS   Log-Likelihood:                -15352.\n",
      "Date:                Sun, 15 Oct 2017   Deviance:                       30703.\n",
      "Time:                        22:00:07   Pearson chi2:                 1.58e+05\n",
      "No. Iterations:                     7                                         \n",
      "========================================================================================================\n",
      "                                           coef    std err          z      P>|z|      [0.025      0.975]\n",
      "--------------------------------------------------------------------------------------------------------\n",
      "Intercept                               -4.2217      0.096    -43.807      0.000      -4.411      -4.033\n",
      "C(marketType)[T.direct_traffic]         -0.0199      0.045     -0.439      0.660      -0.109       0.069\n",
      "C(marketType)[T.friend_referral]         0.5455      0.045     12.049      0.000       0.457       0.634\n",
      "C(marketType)[T.seo]                    -0.1478      0.049     -2.993      0.003      -0.245      -0.051\n",
      "C(marketLocation)[T.direct_traffic]     -0.0199      0.045     -0.439      0.660      -0.109       0.069\n",
      "C(marketLocation)[T.facebook]            0.4860      0.084      5.773      0.000       0.321       0.651\n",
      "C(marketLocation)[T.friend_referral]     0.5455      0.045     12.049      0.000       0.457       0.634\n",
      "C(marketLocation)[T.google]              0.4314      0.084      5.151      0.000       0.267       0.596\n",
      "C(marketLocation)[T.other]               0.1414      0.095      1.487      0.137      -0.045       0.328\n",
      "C(marketLocation)[T.yahoo]               0.3024      0.118      2.562      0.010       0.071       0.534\n",
      "C(city_id)[T.2]                          0.0010      0.049      0.021      0.983      -0.094       0.096\n",
      "C(city_id)[T.3]                         -0.0515      0.050     -1.035      0.300      -0.149       0.046\n",
      "C(city_id)[T.4]                          0.0796      0.053      1.490      0.136      -0.025       0.184\n",
      "C(hour)[T.2]                            -0.0249      0.062     -0.401      0.688      -0.146       0.097\n",
      "C(hour)[T.3]                             0.0119      0.061      0.193      0.847      -0.109       0.132\n",
      "C(hour)[T.4]                            -0.0205      0.073     -0.281      0.778      -0.163       0.122\n",
      "========================================================================================================\n"
     ]
    }
   ],
   "source": [
    "test_results_Sub2 = test_results_Sub.query('test == 0')\n",
    "y, X = dmatrices('converted ~ C(marketType) + C(marketLocation) + C(city_id) + C(hour)',\n",
    "                  test_results_Sub2, return_type=\"dataframe\")\n",
    "\n",
    "y = np.ravel(y['converted[True]'])\n",
    "\n",
    "glm_binom2 = sm.GLM(y, X, family=sm.families.Binomial(),class_weight='balanced')\n",
    "res2 = glm_binom2.fit()\n",
    "print res2.summary()"
   ]
  },
  {
   "cell_type": "markdown",
   "metadata": {},
   "source": [
    "It seems as if city and hour don't matter much, but market locaiton and type do. Let's fit a new model reducing the number of inputs"
   ]
  },
  {
   "cell_type": "code",
   "execution_count": 118,
   "metadata": {},
   "outputs": [
    {
     "name": "stdout",
     "output_type": "stream",
     "text": [
      "                 Generalized Linear Model Regression Results                  \n",
      "==============================================================================\n",
      "Dep. Variable:                      y   No. Observations:               158025\n",
      "Model:                            GLM   Df Residuals:                   158017\n",
      "Model Family:                Binomial   Df Model:                            7\n",
      "Link Function:                  logit   Scale:                             1.0\n",
      "Method:                          IRLS   Log-Likelihood:                -15355.\n",
      "Date:                Sun, 15 Oct 2017   Deviance:                       30710.\n",
      "Time:                        22:08:49   Pearson chi2:                 1.58e+05\n",
      "No. Iterations:                     7                                         \n",
      "========================================================================================================\n",
      "                                           coef    std err          z      P>|z|      [0.025      0.975]\n",
      "--------------------------------------------------------------------------------------------------------\n",
      "Intercept                               -4.2273      0.076    -55.617      0.000      -4.376      -4.078\n",
      "C(marketType)[T.direct_traffic]         -0.0197      0.045     -0.435      0.664      -0.108       0.069\n",
      "C(marketType)[T.friend_referral]         0.5457      0.045     12.053      0.000       0.457       0.634\n",
      "C(marketType)[T.seo]                    -0.1472      0.049     -2.983      0.003      -0.244      -0.050\n",
      "C(marketLocation)[T.direct_traffic]     -0.0197      0.045     -0.435      0.664      -0.108       0.069\n",
      "C(marketLocation)[T.facebook]            0.4864      0.084      5.779      0.000       0.321       0.651\n",
      "C(marketLocation)[T.friend_referral]     0.5457      0.045     12.053      0.000       0.457       0.634\n",
      "C(marketLocation)[T.google]              0.4313      0.084      5.149      0.000       0.267       0.595\n",
      "C(marketLocation)[T.other]               0.1410      0.095      1.483      0.138      -0.045       0.327\n",
      "C(marketLocation)[T.yahoo]               0.3025      0.118      2.562      0.010       0.071       0.534\n",
      "========================================================================================================\n"
     ]
    }
   ],
   "source": [
    "test_results_Sub2 = test_results_Sub.query('test == 0')\n",
    "y3, X3 = dmatrices('converted ~ C(marketType) + C(marketLocation)',\n",
    "                  test_results_Sub2, return_type=\"dataframe\")\n",
    "\n",
    "y3 = np.ravel(y3['converted[True]'])\n",
    "\n",
    "glm_binom3 = sm.GLM(y3, X3, family=sm.families.Binomial(),class_weight='balanced',)\n",
    "res3 = glm_binom3.fit()\n",
    "print res3.summary()"
   ]
  },
  {
   "cell_type": "code",
   "execution_count": 144,
   "metadata": {},
   "outputs": [
    {
     "data": {
      "image/png": "[encoded data removed]",
      "text/plain": [
       "<matplotlib.figure.Figure at 0x114ac11d0>"
      ]
     },
     "metadata": {},
     "output_type": "display_data"
    }
   ],
   "source": [
    "test_results_Sub2_summary = test_results_Sub2.groupby(['marketType','marketLocation']).converted.sum().reset_index()\n",
    "test_results_Sub2_summary['total'] = test_results_Sub2.groupby(['marketType','marketLocation']).converted.count().tolist()\n",
    "test_results_Sub2_summary['percent_converted']=np.divide(test_results_Sub2_summary.converted,test_results_Sub2_summary.total)\n",
    "test_results_Sub2_summary.groupby(['marketType','marketLocation']).percent_converted.sum().plot.bar()\n",
    "plt.show()"
   ]
  },
  {
   "cell_type": "code",
   "execution_count": 157,
   "metadata": {},
   "outputs": [
    {
     "data": {
      "image/png": "[encoded data removed]",
      "text/plain": [
       "<matplotlib.figure.Figure at 0x121a72810>"
      ]
     },
     "metadata": {},
     "output_type": "display_data"
    }
   ],
   "source": [
    "convert_plot = test_results_Sub2_summary.groupby(['marketType','marketLocation']).percent_converted.sum().reset_index().pivot('marketType','marketLocation', \"percent_converted\")\n",
    "sns.heatmap(convert_plot,cmap=\"Blues\")\n",
    "plt.show()"
   ]
  },
  {
   "cell_type": "markdown",
   "metadata": {},
   "source": [
    "In terms of coversion rate, it looks as if friend referrals has the highest. That's difficult to control from a company though, unless they can modulate the number of referrals a person can send. Outside of that, the highest conversion rates tend to be through Bing SEO work, and Facebook and Google ads. "
   ]
  },
  {
   "cell_type": "code",
   "execution_count": 169,
   "metadata": {},
   "outputs": [
    {
     "data": {
      "image/png": "[encoded data removed]",
      "text/plain": [
       "<matplotlib.figure.Figure at 0x11b7a0dd0>"
      ]
     },
     "metadata": {},
     "output_type": "display_data"
    }
   ],
   "source": [
    "test_results_Sub3 = test_results_Sub.query('test == 1')\n",
    "test_results_Sub3_summary = test_results_Sub3.groupby(['marketType','marketLocation']).converted.sum().reset_index()\n",
    "test_results_Sub3_summary['total'] = test_results_Sub3.groupby(['marketType','marketLocation']).converted.count().tolist()\n",
    "test_results_Sub3_summary['percent_converted']=np.divide(test_results_Sub3_summary.converted,test_results_Sub3_summary.total)\n",
    "convert_plot2 = test_results_Sub3_summary.groupby(['marketType','marketLocation']).percent_converted.sum().reset_index().pivot('marketType','marketLocation', \"percent_converted\")\n",
    "sns.heatmap(convert_plot2,cmap=\"Blues\")\n",
    "plt.show()"
   ]
  },
  {
   "cell_type": "markdown",
   "metadata": {},
   "source": [
    "Compared to the test subjectcts, the pattern pretty much holds.\n",
    "\n",
    "so, where is the best place to focus efforts?"
   ]
  },
  {
   "cell_type": "code",
   "execution_count": 168,
   "metadata": {},
   "outputs": [
    {
     "data": {
      "image/png": "[encoded data removed]",
      "text/plain": [
       "<matplotlib.figure.Figure at 0x11400a6d0>"
      ]
     },
     "metadata": {},
     "output_type": "display_data"
    }
   ],
   "source": [
    "sns.set_palette(\"husl\")\n",
    "sns.factorplot(x=\"marketType\", y=\"total\", hue=\"marketLocation\",size=10,\n",
    "                    data=test_results_Sub2_summary.reset_index(),\n",
    "                    kind=\"bar\")\n",
    "plt.xticks(rotation=45)\n",
    "\n",
    "plt.show()"
   ]
  },
  {
   "cell_type": "markdown",
   "metadata": {},
   "source": [
    "In terms of current volume, this is telling us that Adds get more hits than SEOs, and that Facebook and Google bring in way more visitors than Bing, so maybe that's where the focus should be. There is also a large amount of Direct Traffic, suggesting there's a large user base in place that know the address and type it in directly... but from the information before, it doesn't lead to much conversion.\n",
    "\n",
    "## Conclusion\n",
    "These data suggest that the most effective marketing to get people to the site are add campaigns on google and facebook. The only more effective method of generating conversion are friend referrals, but those are likely difficult to control.\n",
    "\n",
    "In addition to putting money into facebook and google adds, it seems as though raising the price from 39 dollars to 59 dollars, although reducing conversion overall, would generate more in profit. Further, we could have stopped the experiment early (247107 users sooner) and still detected the difference."
   ]
  },
  {
   "cell_type": "code",
   "execution_count": null,
   "metadata": {
    "collapsed": true
   },
   "outputs": [],
   "source": []
  }
 ],
 "metadata": {
  "kernelspec": {
   "display_name": "Python 2",
   "language": "python",
   "name": "python2"
  },
  "language_info": {
   "codemirror_mode": {
    "name": "ipython",
    "version": 2
   },
   "file_extension": ".py",
   "mimetype": "text/x-python",
   "name": "python",
   "nbconvert_exporter": "python",
   "pygments_lexer": "ipython2",
   "version": "2.7.13"
  }
 },
 "nbformat": 4,
 "nbformat_minor": 2
}
